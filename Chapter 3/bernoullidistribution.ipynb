{
 "cells": [
  {
   "cell_type": "code",
   "execution_count": 1,
   "id": "de50afe0",
   "metadata": {},
   "outputs": [],
   "source": [
    "import numpy as np\n",
    "import seaborn as sns\n",
    "import matplotlib.pyplot as plt"
   ]
  },
  {
   "cell_type": "code",
   "execution_count": 2,
   "id": "8407c2a3",
   "metadata": {},
   "outputs": [],
   "source": [
    "n_default = np.empty(1000)\n",
    "n_count = 0\n",
    "for i in range(1000):\n",
    "    n_default[i] = np.random.random()\n",
    "    random_num = n_default[i] > 0.5\n",
    "    if random_num:\n",
    "        n_count += 1\n",
    "        \n"
   ]
  },
  {
   "cell_type": "code",
   "execution_count": 12,
   "id": "ccd98a79",
   "metadata": {},
   "outputs": [
    {
     "name": "stdout",
     "output_type": "stream",
     "text": [
      "6219\n"
     ]
    }
   ],
   "source": [
    "## lets count the no of times the probability of getting head in all 4 coins is greater than 0.5 in 1000000 trials\n",
    "head_counter = 0\n",
    "for _ in range(100000):\n",
    "    random_num = np.random.random(size = 4)\n",
    "    num_head = random_num > 0.5 # suppose greater than 0.5 is head here\n",
    "    all_head = np.sum(num_head)\n",
    "    if all_head == 4:\n",
    "        head_counter += 1\n",
    "        \n",
    "print(head_counter)"
   ]
  },
  {
   "cell_type": "code",
   "execution_count": 11,
   "id": "ee2ede6d",
   "metadata": {},
   "outputs": [
    {
     "data": {
      "text/plain": [
       "array([False, False, False, False])"
      ]
     },
     "execution_count": 11,
     "metadata": {},
     "output_type": "execute_result"
    }
   ],
   "source": [
    "np.random.random(4) > 0.5"
   ]
  },
  {
   "cell_type": "code",
   "execution_count": null,
   "id": "ba539336",
   "metadata": {},
   "outputs": [],
   "source": []
  }
 ],
 "metadata": {
  "kernelspec": {
   "display_name": "Python 3 (ipykernel)",
   "language": "python",
   "name": "python3"
  },
  "language_info": {
   "codemirror_mode": {
    "name": "ipython",
    "version": 3
   },
   "file_extension": ".py",
   "mimetype": "text/x-python",
   "name": "python",
   "nbconvert_exporter": "python",
   "pygments_lexer": "ipython3",
   "version": "3.9.12"
  }
 },
 "nbformat": 4,
 "nbformat_minor": 5
}
